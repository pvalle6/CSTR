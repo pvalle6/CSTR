{
 "nbformat": 4,
 "nbformat_minor": 0,
 "metadata": {
  "colab": {
   "provenance": []
  },
  "kernelspec": {
   "name": "python3",
   "language": "python",
   "display_name": "Python 3 (ipykernel)"
  },
  "language_info": {
   "name": "python"
  }
 },
 "cells": [
  {
   "cell_type": "markdown",
   "source": [
    "Blending CSTR"
   ],
   "metadata": {
    "id": "BMxJNU393zF_"
   }
  },
  {
   "cell_type": "code",
   "source": [
    "import scipy\n",
    "import matplotlib.pyplot as plt\n",
    "import numpy as np"
   ],
   "metadata": {
    "id": "Kzq2NcAg6sY0",
    "ExecuteTime": {
     "end_time": "2024-09-10T18:37:51.904372200Z",
     "start_time": "2024-09-10T18:37:51.371764200Z"
    }
   },
   "execution_count": 1,
   "outputs": []
  },
  {
   "cell_type": "code",
   "source": [
    "# Starting Conditions\n",
    "\n",
    "# Tank Specifications\n",
    "VOLUME_TANK = 1000 # LITERS\n",
    "DIAMETER = 10 #\n",
    "\n",
    "Volume_base = 500 # L\n",
    "Upper_Vol = 60 # L\n",
    "Lower_Vol = 40 # L\n",
    "\n",
    "BULK_A_FRAC_0 = 0.01 # mol A / mol\n",
    "BULK_B_FRAC_0 = 0.01 # mol B / mol\n",
    "\n",
    "# World Constants\n",
    "GRAVITY = 9.81\n",
    "\n",
    "# STREAM SPECIFICATIONS\n",
    "Q_ONE_0 = 0.083 # L / s\n",
    "Q_ONE_CA = 0.1 # mol / l\n",
    "Q_ONE_CB = 0.01\n",
    "\n",
    "Q_TWO_0 = 0.083 # L / s\n",
    "Q_TWO_CA = 0.1\n",
    "Q_TWO_CB = 0.01\n",
    "\n",
    "Exit_Stream = 0.2 # L / s\n",
    "EXIT_DIAMETER = 1 # m"
   ],
   "metadata": {
    "id": "NlumQdVQ31lc",
    "ExecuteTime": {
     "end_time": "2024-09-10T19:33:32.938065800Z",
     "start_time": "2024-09-10T19:33:32.920982700Z"
    }
   },
   "execution_count": 124,
   "outputs": []
  },
  {
   "cell_type": "code",
   "outputs": [],
   "source": [
    "def calculate_height(volume, diameter):\n",
    "  volume_m3 = volume * 0.001\n",
    "  height = volume / (np.pi * (diameter / 2) ** 2)\n",
    "\n",
    "  return height"
   ],
   "metadata": {
    "id": "UcA16blSQUNd",
    "ExecuteTime": {
     "end_time": "2024-09-10T19:33:33.296295700Z",
     "start_time": "2024-09-10T19:33:33.277108700Z"
    }
   },
   "execution_count": 125
  },
  {
   "cell_type": "code",
   "outputs": [
    {
     "name": "stdout",
     "output_type": "stream",
     "text": [
      "Starting Height:  6.366197723675813\n",
      "Max Height:  12.732395447351626\n"
     ]
    }
   ],
   "source": [
    "STARTING_HEIGHT = calculate_height(500, DIAMETER)\n",
    "MAX_HEIGHT = calculate_height(1000, DIAMETER)\n",
    "\n",
    "print(\"Starting Height: \", STARTING_HEIGHT)\n",
    "print(\"Max Height: \", MAX_HEIGHT)"
   ],
   "metadata": {
    "colab": {
     "base_uri": "https://localhost:8080/"
    },
    "id": "j9sQ8BvzR30g",
    "outputId": "a6cbc26d-80d1-4ece-e937-f3fdcbf0ca0c",
    "ExecuteTime": {
     "end_time": "2024-09-10T19:33:33.445461800Z",
     "start_time": "2024-09-10T19:33:33.429896500Z"
    }
   },
   "execution_count": 126
  },
  {
   "cell_type": "code",
   "source": [
    "def random_event():\n",
    "\n",
    "  if np.random.randint(0, 100) > 50:\n",
    "    return True\n",
    "  else:\n",
    "    return False\n",
    "  \n",
    "  return (1 + (np.random.randint(0, 100) / 100))\n",
    "\n",
    "def Q1(t):\n",
    "  return 1\n",
    "\n",
    "def Q2(t):\n",
    "  return 1\n",
    "\n",
    "def Q3(t, V):\n",
    "  return ((EXIT_DIAMETER / 2) ** 2) * np.pi * np.sqrt(2 * GRAVITY * calculate_height(V, DIAMETER))\n",
    "\n",
    "def a1(t):\n",
    "  return 0.1 * random_event()\n",
    "\n",
    "def a2(t):\n",
    "  return 0.1 * random_event()\n",
    "\n",
    "def volume_balance(t, V):\n",
    "  dvdt = Q1(t) + Q2(t) - Q3(t, V)\n",
    "  return dvdt\n",
    "\n",
    "def a_balance(t, V, A):\n",
    "  dadt = Q1(t) * 1 + Q2(t) * 1 - Q3(t, V) * A\n",
    "  return dadt\n",
    "\n",
    "def coupled_system(t, x):\n",
    "  dvdt = volume_balance(t, x[0])\n",
    "  dadt = a_balance(t, x[0], x[1])\n",
    "  return [dvdt, dadt]"
   ],
   "metadata": {
    "id": "2So9IJER6aOx",
    "ExecuteTime": {
     "end_time": "2024-09-10T19:34:08.968020Z",
     "start_time": "2024-09-10T19:34:08.958891900Z"
    }
   },
   "execution_count": 139,
   "outputs": []
  },
  {
   "cell_type": "code",
   "source": [
    "sol = scipy.integrate.solve_ivp(coupled_system, [0,100], [Volume_base, BULK_A_FRAC_0])"
   ],
   "metadata": {
    "id": "b9VK9dgGCM0L",
    "colab": {
     "base_uri": "https://localhost:8080/"
    },
    "outputId": "b74e25ee-a2ab-41f0-de2d-01c9d8d76927",
    "ExecuteTime": {
     "end_time": "2024-09-10T19:34:09.323552400Z",
     "start_time": "2024-09-10T19:34:09.297245Z"
    }
   },
   "execution_count": 140,
   "outputs": []
  },
  {
   "cell_type": "code",
   "outputs": [
    {
     "data": {
      "text/plain": "  message: The solver successfully reached the end of the integration interval.\n  success: True\n   status: 0\n        t: [ 0.000e+00  7.774e-03 ...  9.911e+01  1.000e+02]\n        y: [[ 5.000e+02  4.999e+02 ...  9.355e+01  9.196e+01]\n            [ 1.000e-02  2.437e-02 ...  5.252e-01  5.296e-01]]\n      sol: None\n t_events: None\n y_events: None\n     nfev: 1232\n     njev: 0\n      nlu: 0"
     },
     "execution_count": 141,
     "metadata": {},
     "output_type": "execute_result"
    }
   ],
   "source": [
    "sol"
   ],
   "metadata": {
    "collapsed": false,
    "ExecuteTime": {
     "end_time": "2024-09-10T19:34:09.651445400Z",
     "start_time": "2024-09-10T19:34:09.627110800Z"
    }
   },
   "execution_count": 141
  },
  {
   "cell_type": "code",
   "outputs": [
    {
     "data": {
      "text/plain": "array([0.01      , 0.0243702 , 0.12176288, 0.1832874 , 0.2125151 ,\n       0.22394911, 0.22767998, 0.22882605, 0.2294131 , 0.23002807,\n       0.23060747, 0.23121804, 0.23183316, 0.23243255, 0.23302224,\n       0.23364263, 0.23429789, 0.23494538, 0.23557642, 0.23618994,\n       0.23681275, 0.23748585, 0.23816848, 0.23883282, 0.23947951,\n       0.24011303, 0.24079072, 0.24150781, 0.2422085 , 0.2428918 ,\n       0.24355233, 0.24422715, 0.24496866, 0.24571113, 0.24643121,\n       0.24713194, 0.24781367, 0.24855963, 0.249347  , 0.25010674,\n       0.25085068, 0.25156333, 0.2522982 , 0.25312069, 0.253929  ,\n       0.25471312, 0.25547623, 0.25621068, 0.25703935, 0.25790595,\n       0.2587317 , 0.25954721, 0.26031733, 0.26112269, 0.26204115,\n       0.26292152, 0.26378058, 0.26461639, 0.26540811, 0.26633842,\n       0.26729339, 0.2681939 , 0.26909528, 0.2699284 , 0.27092838,\n       0.27186931, 0.27281106, 0.27370453, 0.27471002, 0.27568386,\n       0.27665871, 0.27759113, 0.27862818, 0.27963911, 0.28065053,\n       0.28162838, 0.2826957 , 0.28374512, 0.28479519, 0.28581923,\n       0.28684058, 0.28798028, 0.28910339, 0.29020475, 0.29131161,\n       0.29236375, 0.29351445, 0.29473007, 0.29588842, 0.29706585,\n       0.29820465, 0.29944485, 0.30065343, 0.30187953, 0.30308112,\n       0.30436063, 0.30562143, 0.30689891, 0.30815924, 0.30941074,\n       0.31078384, 0.31213407, 0.31347305, 0.31483824, 0.31614437,\n       0.3175479 , 0.31901418, 0.32042115, 0.32187284, 0.32329747,\n       0.32480508, 0.32627913, 0.32779554, 0.3293032 , 0.33086863,\n       0.33241583, 0.33400277, 0.33558822, 0.3371569 , 0.33884472,\n       0.34050349, 0.34216756, 0.34388866, 0.34554961, 0.34729947,\n       0.34910673, 0.35085558, 0.35268606, 0.35451153, 0.35638631,\n       0.35822829, 0.36014807, 0.36208503, 0.36404683, 0.36599356,\n       0.36801279, 0.37005598, 0.37207371, 0.37419907, 0.37628966,\n       0.37841105, 0.38063431, 0.38280296, 0.38504185, 0.38732695,\n       0.38955961, 0.39192671, 0.39432691, 0.39672189, 0.39908899,\n       0.40158374, 0.40413617, 0.40666395, 0.40918402, 0.41182204,\n       0.41452318, 0.41719092, 0.41994242, 0.42265459, 0.42543504,\n       0.42838121, 0.43128948, 0.43423582, 0.43720871, 0.44014178,\n       0.44328332, 0.44652005, 0.44966972, 0.4528023 , 0.45612981,\n       0.45957416, 0.4629464 , 0.46640131, 0.46977986, 0.47327191,\n       0.47704262, 0.48076478, 0.48449041, 0.48822318, 0.49188936,\n       0.49588997, 0.50007881, 0.50404815, 0.5079918 , 0.51223964,\n       0.51667737, 0.52091493, 0.52515203, 0.52962751])"
     },
     "execution_count": 142,
     "metadata": {},
     "output_type": "execute_result"
    }
   ],
   "source": [
    "sol.y[1]"
   ],
   "metadata": {
    "collapsed": false,
    "ExecuteTime": {
     "end_time": "2024-09-10T19:34:10.023443400Z",
     "start_time": "2024-09-10T19:34:10.005383500Z"
    }
   },
   "execution_count": 142
  },
  {
   "cell_type": "code",
   "source": [
    "# plot\n",
    "\n",
    "plt.plot(sol.t, sol.y[0])\n",
    "plt.xlabel('Time')\n",
    "plt.ylabel('Volume')\n",
    "plt.title('Volume over Time')\n",
    "plt.show()\n"
   ],
   "metadata": {
    "colab": {
     "base_uri": "https://localhost:8080/",
     "height": 472
    },
    "id": "f3UZ7o7uPe96",
    "outputId": "385760ef-8f47-4468-e1c1-3b0dec475551",
    "ExecuteTime": {
     "end_time": "2024-09-10T19:34:10.552849400Z",
     "start_time": "2024-09-10T19:34:10.430290500Z"
    }
   },
   "execution_count": 143,
   "outputs": [
    {
     "data": {
      "text/plain": "<Figure size 640x480 with 1 Axes>",
      "image/png": "[encoded data removed]"
     },
     "metadata": {},
     "output_type": "display_data"
    }
   ]
  },
  {
   "cell_type": "code",
   "source": [
    "# plot\n",
    "\n",
    "plt.plot(sol.t, sol.y[1])\n",
    "plt.xlabel('Time')\n",
    "plt.ylabel('A')\n",
    "plt.title('A over Time')\n",
    "plt.show()\n"
   ],
   "metadata": {
    "id": "o45maoiJYXlp",
    "ExecuteTime": {
     "end_time": "2024-09-10T19:34:11.842197Z",
     "start_time": "2024-09-10T19:34:11.733729300Z"
    }
   },
   "execution_count": 144,
   "outputs": [
    {
     "data": {
      "text/plain": "<Figure size 640x480 with 1 Axes>",
      "image/png": "[encoded data removed]"
     },
     "metadata": {},
     "output_type": "display_data"
    }
   ]
  },
  {
   "cell_type": "code",
   "outputs": [],
   "source": [],
   "metadata": {
    "collapsed": false,
    "ExecuteTime": {
     "end_time": "2024-09-10T19:04:14.267406400Z",
     "start_time": "2024-09-10T19:04:14.254328800Z"
    }
   },
   "execution_count": 71
  },
  {
   "cell_type": "code",
   "outputs": [],
   "source": [],
   "metadata": {
    "collapsed": false
   }
  }
 ]
}
